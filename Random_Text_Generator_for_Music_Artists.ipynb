{
  "nbformat": 4,
  "nbformat_minor": 0,
  "metadata": {
    "colab": {
      "provenance": []
    },
    "kernelspec": {
      "name": "python3",
      "display_name": "Python 3"
    },
    "language_info": {
      "name": "python"
    }
  },
  "cells": [
    {
      "cell_type": "code",
      "execution_count": 4,
      "metadata": {
        "colab": {
          "base_uri": "https://localhost:8080/"
        },
        "id": "kwd3WF6gw2q4",
        "outputId": "50044957-cef8-4e7b-e642-9f9188db4592"
      },
      "outputs": [
        {
          "output_type": "stream",
          "name": "stdout",
          "text": [
            "🎧 RANDOM MUSIC ARTIST GENERATOR 🎧\n",
            "\n",
            "\n",
            "    Artist Name: Holographic Horizon (Glitch Hop Collective)\n",
            "    Debut Album: \"Forgotten Replicas\" (2017)\n",
            "    Description: A Glitch Hop AI-human hybrid from a Neon-lit metaverse, formed in 2017.\n",
            "    Their sound blends ancient mythology with vintage video games,\n",
            "    creating crystalline textures.\n",
            "    \n",
            "---\n",
            "\n",
            "    Artist Name: King Chaotic Ritual (Hyperpop Assembly)\n",
            "    Debut Album: \"Luminous Dialogues\" (2013)\n",
            "    Description: A Hyperpop AI-human hybrid from a Norwegian fjord, formed in 2013.\n",
            "    Their sound blends lost VHS tapes with cyberpunk literature,\n",
            "    creating chaotic energy bursts.\n",
            "    \n",
            "---\n",
            "\n",
            "    Artist Name: MC Lunar Machines (Cyberfolk Movement)\n",
            "    Debut Album: \"Forgotten Protocols\" (2012)\n",
            "    Description: A Cyberfolk anonymous collective from a Tokyo cybercafe, formed in 2012.\n",
            "    Their sound blends 80s anime soundtracks with Arctic landscapes,\n",
            "    creating crystalline textures.\n",
            "    \n",
            "---\n"
          ]
        }
      ],
      "source": [
        "import random\n",
        "\n",
        "def generate_music_artist():\n",
        "    # Word components\n",
        "    prefixes = [\"The\", \"DJ\", \"MC\", \"Saint\", \"King\", \"Queen\", \"Ghost\", \"Digital\", \"Neon\"]\n",
        "    adjectives = [\"Velvet\", \"Electric\", \"Cosmic\", \"Lunar\", \"Chaotic\", \"Silent\", \"Crimson\", \"Feral\", \"Holographic\"]\n",
        "    nouns = [\"Echoes\", \"Reverie\", \"Syndrome\", \"Theory\", \"Machines\", \"Horizon\", \"Spectre\", \"Ritual\", \"Frequency\"]\n",
        "\n",
        "    genres = [\"Hyperpop\", \"Synthwave\", \"Dreamcore\", \"Trap Metal\", \"Lo-fi\", \"Cyberfolk\", \"Vapor Soul\", \"Glitch Hop\"]\n",
        "    suffixes = [\"Collective\", \"Project\", \"Experience\", \"Syndicate\", \"Band\", \"Crew\", \"Movement\", \"Assembly\"]\n",
        "\n",
        "    influences = [\"80s anime soundtracks\", \"ancient mythology\", \"cyberpunk literature\", \"Arctic landscapes\",\n",
        "                 \"abandoned malls\", \"vintage video games\", \"quantum physics\", \"lost VHS tapes\"]\n",
        "\n",
        "    # Generate artist name\n",
        "    name_type = random.choice([1, 2, 3])\n",
        "    if name_type == 1:\n",
        "        name = f\"{random.choice(prefixes)} {random.choice(adjectives)} {random.choice(nouns)}\"\n",
        "    elif name_type == 2:\n",
        "        name = f\"{random.choice(adjectives)} {random.choice(nouns)}\"\n",
        "    else:\n",
        "        name = f\"{random.choice(prefixes)} {random.choice(nouns)}\"\n",
        "\n",
        "    # Generate description components\n",
        "    genre = random.choice(genres)\n",
        "    members = random.choice([\"solo producer\", \"duo\", \"anonymous collective\", \"AI-human hybrid\", \"virtual idol group\"])\n",
        "    origin = random.choice([\"Brooklyn basement\", \"Tokyo cybercafe\", \"Norwegian fjord\", \"Neon-lit metaverse\"])\n",
        "    debut_year = random.randint(2010, 2024)\n",
        "\n",
        "    # Create description\n",
        "    description = f\"\"\"A {genre} {members} from a {origin}, formed in {debut_year}.\n",
        "    Their sound blends {random.choice(influences)} with {random.choice(influences)},\n",
        "    creating {random.choice(['crystalline textures', 'chaotic energy bursts',\n",
        "    'hypnotic rhythms', 'ethereal soundscapes'])}.\"\"\"\n",
        "\n",
        "    # Generate album title\n",
        "    album_adjectives = [\"Forgotten\", \"Glitched\", \"Ceremonial\", \"Fractured\", \"Luminous\"]\n",
        "    album_nouns = [\"Memories\", \"Protocols\", \"Dialogues\", \"Vows\", \"Replicas\"]\n",
        "    album_title = f\"{random.choice(album_adjectives)} {random.choice(album_nouns)}\"\n",
        "\n",
        "    return f\"\"\"\n",
        "    Artist Name: {name} ({genre} {random.choice(suffixes)})\n",
        "    Debut Album: \"{album_title}\" ({debut_year})\n",
        "    Description: {description}\n",
        "    \"\"\"\n",
        "\n",
        "# Generate multiple artists\n",
        "print(\"🎧 RANDOM MUSIC ARTIST GENERATOR 🎧\\n\")\n",
        "for _ in range(3):\n",
        "    print(generate_music_artist())\n",
        "    print(\"---\")"
      ]
    }
  ]
}